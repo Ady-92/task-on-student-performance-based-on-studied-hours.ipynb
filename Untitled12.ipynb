{
  "nbformat": 4,
  "nbformat_minor": 0,
  "metadata": {
    "colab": {
      "name": "Untitled12.ipynb",
      "provenance": [],
      "collapsed_sections": [],
      "authorship_tag": "ABX9TyM90jXk+1hjRkEMwis5QHec",
      "include_colab_link": true
    },
    "kernelspec": {
      "name": "python3",
      "display_name": "Python 3"
    }
  },
  "cells": [
    {
      "cell_type": "markdown",
      "metadata": {
        "id": "view-in-github",
        "colab_type": "text"
      },
      "source": [
        "<a href=\"https://colab.research.google.com/github/Ady-92/task-on-student-performance-based-on-studied-hours.ipynb/blob/main/Untitled12.ipynb\" target=\"_parent\"><img src=\"https://colab.research.google.com/assets/colab-badge.svg\" alt=\"Open In Colab\"/></a>"
      ]
    },
    {
      "cell_type": "code",
      "metadata": {
        "id": "B-N8eQcZTaYn"
      },
      "source": [
        "# This Python 3 environment comes with many helpful analytics libraries installed\n",
        "# It is defined by the kaggle/python docker image: https://github.com/kaggle/docker-python\n",
        "# For example, here's several helpful packages to load in \n",
        "\n",
        "import numpy as np # linear algebra\n",
        "import pandas as pd # data processing, CSV file I/O (e.g. pd.read_csv)\n",
        "from matplotlib.pyplot import plot\n",
        "from sklearn.preprocessing import MinMaxScaler\n",
        "import datetime\n",
        "\n",
        "# Input data files are available in the \"../input/\" directory.\n",
        "# For example, running this (by clicking run or pressing Shift+Enter) will list all files under the input directory\n",
        "\n",
        "import os\n",
        "for dirname, _, filenames in os.walk('/kaggle/input'):\n",
        "    for filename in filenames:\n",
        "        print(os.path.join(dirname, filename))\n",
        "\n",
        "# Any results you write to the current directory are saved as output."
      ],
      "execution_count": null,
      "outputs": []
    },
    {
      "cell_type": "code",
      "metadata": {
        "colab": {
          "base_uri": "https://localhost:8080/",
          "height": 297
        },
        "id": "VX3NyuFsTmY1",
        "outputId": "66c9555e-accd-4f10-83c2-fdc0d52a4854"
      },
      "source": [
        "block= 'block_20'\n",
        "original_data = pd.read_csv('block_20.csv')\n",
        "original_data.describe()"
      ],
      "execution_count": null,
      "outputs": [
        {
          "output_type": "execute_result",
          "data": {
            "text/html": [
              "<div>\n",
              "<style scoped>\n",
              "    .dataframe tbody tr th:only-of-type {\n",
              "        vertical-align: middle;\n",
              "    }\n",
              "\n",
              "    .dataframe tbody tr th {\n",
              "        vertical-align: top;\n",
              "    }\n",
              "\n",
              "    .dataframe thead th {\n",
              "        text-align: right;\n",
              "    }\n",
              "</style>\n",
              "<table border=\"1\" class=\"dataframe\">\n",
              "  <thead>\n",
              "    <tr style=\"text-align: right;\">\n",
              "      <th></th>\n",
              "      <th>energy_median</th>\n",
              "      <th>energy_mean</th>\n",
              "      <th>energy_max</th>\n",
              "      <th>energy_count</th>\n",
              "      <th>energy_std</th>\n",
              "      <th>energy_sum</th>\n",
              "      <th>energy_min</th>\n",
              "    </tr>\n",
              "  </thead>\n",
              "  <tbody>\n",
              "    <tr>\n",
              "      <th>count</th>\n",
              "      <td>36168.000000</td>\n",
              "      <td>36168.000000</td>\n",
              "      <td>36168.000000</td>\n",
              "      <td>36168.000000</td>\n",
              "      <td>36082.000000</td>\n",
              "      <td>36168.000000</td>\n",
              "      <td>36168.000000</td>\n",
              "    </tr>\n",
              "    <tr>\n",
              "      <th>mean</th>\n",
              "      <td>0.160697</td>\n",
              "      <td>0.222098</td>\n",
              "      <td>0.894581</td>\n",
              "      <td>47.846854</td>\n",
              "      <td>0.192317</td>\n",
              "      <td>10.620479</td>\n",
              "      <td>0.058546</td>\n",
              "    </tr>\n",
              "    <tr>\n",
              "      <th>std</th>\n",
              "      <td>0.176621</td>\n",
              "      <td>0.198113</td>\n",
              "      <td>0.693741</td>\n",
              "      <td>2.449641</td>\n",
              "      <td>0.170579</td>\n",
              "      <td>9.459052</td>\n",
              "      <td>0.091643</td>\n",
              "    </tr>\n",
              "    <tr>\n",
              "      <th>min</th>\n",
              "      <td>0.000000</td>\n",
              "      <td>0.000000</td>\n",
              "      <td>0.000000</td>\n",
              "      <td>1.000000</td>\n",
              "      <td>0.000000</td>\n",
              "      <td>0.000000</td>\n",
              "      <td>0.000000</td>\n",
              "    </tr>\n",
              "    <tr>\n",
              "      <th>25%</th>\n",
              "      <td>0.062000</td>\n",
              "      <td>0.096391</td>\n",
              "      <td>0.358000</td>\n",
              "      <td>48.000000</td>\n",
              "      <td>0.070816</td>\n",
              "      <td>4.604000</td>\n",
              "      <td>0.017000</td>\n",
              "    </tr>\n",
              "    <tr>\n",
              "      <th>50%</th>\n",
              "      <td>0.100000</td>\n",
              "      <td>0.152375</td>\n",
              "      <td>0.717000</td>\n",
              "      <td>48.000000</td>\n",
              "      <td>0.135000</td>\n",
              "      <td>7.293000</td>\n",
              "      <td>0.037000</td>\n",
              "    </tr>\n",
              "    <tr>\n",
              "      <th>75%</th>\n",
              "      <td>0.175000</td>\n",
              "      <td>0.270026</td>\n",
              "      <td>1.262000</td>\n",
              "      <td>48.000000</td>\n",
              "      <td>0.268704</td>\n",
              "      <td>12.932250</td>\n",
              "      <td>0.064000</td>\n",
              "    </tr>\n",
              "    <tr>\n",
              "      <th>max</th>\n",
              "      <td>2.884000</td>\n",
              "      <td>2.884000</td>\n",
              "      <td>4.932000</td>\n",
              "      <td>48.000000</td>\n",
              "      <td>1.356365</td>\n",
              "      <td>101.041000</td>\n",
              "      <td>2.884000</td>\n",
              "    </tr>\n",
              "  </tbody>\n",
              "</table>\n",
              "</div>"
            ],
            "text/plain": [
              "       energy_median   energy_mean  ...    energy_sum    energy_min\n",
              "count   36168.000000  36168.000000  ...  36168.000000  36168.000000\n",
              "mean        0.160697      0.222098  ...     10.620479      0.058546\n",
              "std         0.176621      0.198113  ...      9.459052      0.091643\n",
              "min         0.000000      0.000000  ...      0.000000      0.000000\n",
              "25%         0.062000      0.096391  ...      4.604000      0.017000\n",
              "50%         0.100000      0.152375  ...      7.293000      0.037000\n",
              "75%         0.175000      0.270026  ...     12.932250      0.064000\n",
              "max         2.884000      2.884000  ...    101.041000      2.884000\n",
              "\n",
              "[8 rows x 7 columns]"
            ]
          },
          "metadata": {
            "tags": []
          },
          "execution_count": 4
        }
      ]
    },
    {
      "cell_type": "code",
      "metadata": {
        "colab": {
          "base_uri": "https://localhost:8080/",
          "height": 275
        },
        "id": "9yOqK3IBTmnp",
        "outputId": "504e2e59-80f1-4bec-d5f6-cb51ed30584e"
      },
      "source": [
        "max_data = original_data.loc[original_data.groupby('LCLid').pipe(lambda group: group.energy_max.idxmax(skipna=True))][['LCLid','day','energy_max']]\n",
        "min_data = original_data.loc[original_data.groupby('LCLid').pipe(lambda group: group.energy_max.idxmin(skipna=True))][['LCLid','day','energy_min']]\n",
        "# original_data.describe()\n",
        "\n",
        "data = original_data.groupby('LCLid').agg({'energy_median': ['mean'], 'energy_mean': ['mean'], 'energy_sum': ['sum']})\n",
        "data = data.merge(max_data, left_on='LCLid', right_on='LCLid',suffixes=('_left', '_max'))\n",
        "data = data.merge(min_data, left_on='LCLid', right_on='LCLid',suffixes=('_max', '_min'))\n",
        "data['day_max'] = pd.to_datetime(data['day_max']).dt.dayofweek\n",
        "data['day_min'] = pd.to_datetime(data['day_min']).dt.dayofweek\n",
        "\n",
        "# data = pd.concat([data,pd.get_dummies(data['day_min'], prefix='day_min')],axis=1).drop(columns=['day_min'])\n",
        "# data = pd.concat([data,pd.get_dummies(data['day_max'], prefix='day_max')],axis=1).drop(columns=['day_max'])\n",
        "data['min_max_ratio'] = data.pipe(lambda group: group.energy_min/ group.energy_max)\n",
        "# print(original_data[(original_data['LCLid']=='MAC000094')])\n",
        "\n",
        "\n",
        "data.head()"
      ],
      "execution_count": null,
      "outputs": [
        {
          "output_type": "stream",
          "text": [
            "/usr/local/lib/python3.6/dist-packages/pandas/core/reshape/merge.py:643: UserWarning: merging between different levels can give an unintended result (2 levels on the left,1 on the right)\n",
            "  warnings.warn(msg, UserWarning)\n"
          ],
          "name": "stderr"
        },
        {
          "output_type": "execute_result",
          "data": {
            "text/html": [
              "<div>\n",
              "<style scoped>\n",
              "    .dataframe tbody tr th:only-of-type {\n",
              "        vertical-align: middle;\n",
              "    }\n",
              "\n",
              "    .dataframe tbody tr th {\n",
              "        vertical-align: top;\n",
              "    }\n",
              "\n",
              "    .dataframe thead th {\n",
              "        text-align: right;\n",
              "    }\n",
              "</style>\n",
              "<table border=\"1\" class=\"dataframe\">\n",
              "  <thead>\n",
              "    <tr style=\"text-align: right;\">\n",
              "      <th></th>\n",
              "      <th>LCLid</th>\n",
              "      <th>(energy_median, mean)</th>\n",
              "      <th>(energy_mean, mean)</th>\n",
              "      <th>(energy_sum, sum)</th>\n",
              "      <th>day_max</th>\n",
              "      <th>energy_max</th>\n",
              "      <th>day_min</th>\n",
              "      <th>energy_min</th>\n",
              "      <th>min_max_ratio</th>\n",
              "    </tr>\n",
              "  </thead>\n",
              "  <tbody>\n",
              "    <tr>\n",
              "      <th>0</th>\n",
              "      <td>MAC000048</td>\n",
              "      <td>0.095161</td>\n",
              "      <td>0.139562</td>\n",
              "      <td>5445.038001</td>\n",
              "      <td>2</td>\n",
              "      <td>2.749</td>\n",
              "      <td>5</td>\n",
              "      <td>0.047</td>\n",
              "      <td>0.017097</td>\n",
              "    </tr>\n",
              "    <tr>\n",
              "      <th>1</th>\n",
              "      <td>MAC000064</td>\n",
              "      <td>0.194551</td>\n",
              "      <td>0.277078</td>\n",
              "      <td>10803.066998</td>\n",
              "      <td>5</td>\n",
              "      <td>3.879</td>\n",
              "      <td>4</td>\n",
              "      <td>0.063</td>\n",
              "      <td>0.016241</td>\n",
              "    </tr>\n",
              "    <tr>\n",
              "      <th>2</th>\n",
              "      <td>MAC000075</td>\n",
              "      <td>0.087022</td>\n",
              "      <td>0.109019</td>\n",
              "      <td>4211.539000</td>\n",
              "      <td>1</td>\n",
              "      <td>2.634</td>\n",
              "      <td>3</td>\n",
              "      <td>0.019</td>\n",
              "      <td>0.007213</td>\n",
              "    </tr>\n",
              "    <tr>\n",
              "      <th>3</th>\n",
              "      <td>MAC000076</td>\n",
              "      <td>0.280900</td>\n",
              "      <td>0.386219</td>\n",
              "      <td>15028.844997</td>\n",
              "      <td>6</td>\n",
              "      <td>3.145</td>\n",
              "      <td>6</td>\n",
              "      <td>0.026</td>\n",
              "      <td>0.008267</td>\n",
              "    </tr>\n",
              "    <tr>\n",
              "      <th>4</th>\n",
              "      <td>MAC000082</td>\n",
              "      <td>0.036875</td>\n",
              "      <td>0.082713</td>\n",
              "      <td>3215.994001</td>\n",
              "      <td>2</td>\n",
              "      <td>4.201</td>\n",
              "      <td>4</td>\n",
              "      <td>0.013</td>\n",
              "      <td>0.003095</td>\n",
              "    </tr>\n",
              "  </tbody>\n",
              "</table>\n",
              "</div>"
            ],
            "text/plain": [
              "       LCLid  (energy_median, mean)  ...  energy_min  min_max_ratio\n",
              "0  MAC000048               0.095161  ...       0.047       0.017097\n",
              "1  MAC000064               0.194551  ...       0.063       0.016241\n",
              "2  MAC000075               0.087022  ...       0.019       0.007213\n",
              "3  MAC000076               0.280900  ...       0.026       0.008267\n",
              "4  MAC000082               0.036875  ...       0.013       0.003095\n",
              "\n",
              "[5 rows x 9 columns]"
            ]
          },
          "metadata": {
            "tags": []
          },
          "execution_count": 5
        }
      ]
    },
    {
      "cell_type": "code",
      "metadata": {
        "colab": {
          "base_uri": "https://localhost:8080/",
          "height": 295
        },
        "id": "fwNmQGpvTmpN",
        "outputId": "2852cf17-bf76-436a-b753-24396f87b6cb"
      },
      "source": [
        "from sklearn.cluster import KMeans\n",
        "from sklearn.metrics import pairwise_distances_argmin_min\n",
        "import matplotlib.pyplot as plt\n",
        "from mpl_toolkits.mplot3d import Axes3D\n",
        "\n",
        "scaler = MinMaxScaler(feature_range=(0, 1))\n",
        "X = scaler.fit_transform(data.drop(columns=['LCLid']))\n",
        "\n",
        "Nc = range(1, 20)\n",
        "kmeans = [KMeans(n_clusters=i) for i in Nc]\n",
        "score = [kmeans[i].fit(X).score(X) for i in range(len(kmeans))]\n",
        "\n",
        "plt.plot(Nc,score)\n",
        "plt.xlabel('Number of Clusters')\n",
        "plt.ylabel('Score')\n",
        "plt.title('Elbow Curve')\n",
        "plt.show()"
      ],
      "execution_count": null,
      "outputs": [
        {
          "output_type": "display_data",
          "data": {
            "image/png": "[encoded data removed]",
            "text/plain": [
              "<Figure size 432x288 with 1 Axes>"
            ]
          },
          "metadata": {
            "tags": [],
            "needs_background": "light"
          }
        }
      ]
    },
    {
      "cell_type": "code",
      "metadata": {
        "colab": {
          "base_uri": "https://localhost:8080/"
        },
        "id": "wnNWdpdQWm6n",
        "outputId": "402067f1-303e-4389-b676-e3ce77b64d42"
      },
      "source": [
        "kmeans = KMeans(n_clusters=4).fit(X)\n",
        "centroids = kmeans.cluster_centers_\n",
        "print(centroids)"
      ],
      "execution_count": null,
      "outputs": [
        {
          "output_type": "stream",
          "text": [
            "[[0.16290859 0.19741638 0.2246215  0.86666667 0.35490869 0.65833333\n",
            "  0.18168317 0.19338836]\n",
            " [0.09126541 0.09405304 0.13268527 0.28205128 0.38990532 0.71794872\n",
            "  0.06359482 0.05321319]\n",
            " [0.73389432 0.79421307 0.8027826  0.33333333 0.68543987 0.70833333\n",
            "  0.20235149 0.1083422 ]\n",
            " [0.14908382 0.20882613 0.25263877 0.44871795 0.43594606 0.17948718\n",
            "  0.05540746 0.04252384]]\n"
          ],
          "name": "stdout"
        }
      ]
    },
    {
      "cell_type": "code",
      "metadata": {
        "colab": {
          "base_uri": "https://localhost:8080/",
          "height": 241
        },
        "id": "0mKWQNUZTmqw",
        "outputId": "1d8dd682-e6ea-4023-f125-5568aa1efd5e"
      },
      "source": [
        "clustered_data = pd.concat([data,pd.DataFrame(kmeans.predict(X))],axis=1).sort_values(by=[0])\n",
        "clustered_data = clustered_data.rename(columns={0: 'Cluster'})\n",
        "clustered_data.head()"
      ],
      "execution_count": null,
      "outputs": [
        {
          "output_type": "execute_result",
          "data": {
            "text/html": [
              "<div>\n",
              "<style scoped>\n",
              "    .dataframe tbody tr th:only-of-type {\n",
              "        vertical-align: middle;\n",
              "    }\n",
              "\n",
              "    .dataframe tbody tr th {\n",
              "        vertical-align: top;\n",
              "    }\n",
              "\n",
              "    .dataframe thead th {\n",
              "        text-align: right;\n",
              "    }\n",
              "</style>\n",
              "<table border=\"1\" class=\"dataframe\">\n",
              "  <thead>\n",
              "    <tr style=\"text-align: right;\">\n",
              "      <th></th>\n",
              "      <th>LCLid</th>\n",
              "      <th>(energy_median, mean)</th>\n",
              "      <th>(energy_mean, mean)</th>\n",
              "      <th>(energy_sum, sum)</th>\n",
              "      <th>day_max</th>\n",
              "      <th>energy_max</th>\n",
              "      <th>day_min</th>\n",
              "      <th>energy_min</th>\n",
              "      <th>min_max_ratio</th>\n",
              "      <th>Cluster</th>\n",
              "    </tr>\n",
              "  </thead>\n",
              "  <tbody>\n",
              "    <tr>\n",
              "      <th>49</th>\n",
              "      <td>MAC005555</td>\n",
              "      <td>0.095310</td>\n",
              "      <td>0.123628</td>\n",
              "      <td>4702.945000</td>\n",
              "      <td>4</td>\n",
              "      <td>1.677</td>\n",
              "      <td>4</td>\n",
              "      <td>0.086</td>\n",
              "      <td>0.051282</td>\n",
              "      <td>0</td>\n",
              "    </tr>\n",
              "    <tr>\n",
              "      <th>23</th>\n",
              "      <td>MAC002360</td>\n",
              "      <td>0.104079</td>\n",
              "      <td>0.142610</td>\n",
              "      <td>4590.096000</td>\n",
              "      <td>5</td>\n",
              "      <td>1.733</td>\n",
              "      <td>2</td>\n",
              "      <td>0.046</td>\n",
              "      <td>0.026544</td>\n",
              "      <td>0</td>\n",
              "    </tr>\n",
              "    <tr>\n",
              "      <th>22</th>\n",
              "      <td>MAC002359</td>\n",
              "      <td>0.232019</td>\n",
              "      <td>0.269016</td>\n",
              "      <td>8636.903000</td>\n",
              "      <td>6</td>\n",
              "      <td>1.608</td>\n",
              "      <td>4</td>\n",
              "      <td>0.142</td>\n",
              "      <td>0.088308</td>\n",
              "      <td>0</td>\n",
              "    </tr>\n",
              "    <tr>\n",
              "      <th>30</th>\n",
              "      <td>MAC004470</td>\n",
              "      <td>0.120563</td>\n",
              "      <td>0.274657</td>\n",
              "      <td>10592.193001</td>\n",
              "      <td>6</td>\n",
              "      <td>3.386</td>\n",
              "      <td>4</td>\n",
              "      <td>0.005</td>\n",
              "      <td>0.001477</td>\n",
              "      <td>0</td>\n",
              "    </tr>\n",
              "    <tr>\n",
              "      <th>20</th>\n",
              "      <td>MAC002343</td>\n",
              "      <td>0.268796</td>\n",
              "      <td>0.314246</td>\n",
              "      <td>10163.669003</td>\n",
              "      <td>4</td>\n",
              "      <td>2.522</td>\n",
              "      <td>5</td>\n",
              "      <td>0.081</td>\n",
              "      <td>0.032117</td>\n",
              "      <td>0</td>\n",
              "    </tr>\n",
              "  </tbody>\n",
              "</table>\n",
              "</div>"
            ],
            "text/plain": [
              "        LCLid  (energy_median, mean)  ...  min_max_ratio  Cluster\n",
              "49  MAC005555               0.095310  ...       0.051282        0\n",
              "23  MAC002360               0.104079  ...       0.026544        0\n",
              "22  MAC002359               0.232019  ...       0.088308        0\n",
              "30  MAC004470               0.120563  ...       0.001477        0\n",
              "20  MAC002343               0.268796  ...       0.032117        0\n",
              "\n",
              "[5 rows x 10 columns]"
            ]
          },
          "metadata": {
            "tags": []
          },
          "execution_count": 8
        }
      ]
    },
    {
      "cell_type": "code",
      "metadata": {
        "id": "kz8zpDsJTm7_",
        "colab": {
          "base_uri": "https://localhost:8080/",
          "height": 241
        },
        "outputId": "c277e740-ed79-418e-dfea-f8b5c945f780"
      },
      "source": [
        "clustered_data.tail()"
      ],
      "execution_count": null,
      "outputs": [
        {
          "output_type": "execute_result",
          "data": {
            "text/html": [
              "<div>\n",
              "<style scoped>\n",
              "    .dataframe tbody tr th:only-of-type {\n",
              "        vertical-align: middle;\n",
              "    }\n",
              "\n",
              "    .dataframe tbody tr th {\n",
              "        vertical-align: top;\n",
              "    }\n",
              "\n",
              "    .dataframe thead th {\n",
              "        text-align: right;\n",
              "    }\n",
              "</style>\n",
              "<table border=\"1\" class=\"dataframe\">\n",
              "  <thead>\n",
              "    <tr style=\"text-align: right;\">\n",
              "      <th></th>\n",
              "      <th>LCLid</th>\n",
              "      <th>(energy_median, mean)</th>\n",
              "      <th>(energy_mean, mean)</th>\n",
              "      <th>(energy_sum, sum)</th>\n",
              "      <th>day_max</th>\n",
              "      <th>energy_max</th>\n",
              "      <th>day_min</th>\n",
              "      <th>energy_min</th>\n",
              "      <th>min_max_ratio</th>\n",
              "      <th>Cluster</th>\n",
              "    </tr>\n",
              "  </thead>\n",
              "  <tbody>\n",
              "    <tr>\n",
              "      <th>45</th>\n",
              "      <td>MAC004518</td>\n",
              "      <td>0.080438</td>\n",
              "      <td>0.165797</td>\n",
              "      <td>6368.678997</td>\n",
              "      <td>2</td>\n",
              "      <td>2.343</td>\n",
              "      <td>0</td>\n",
              "      <td>0.012</td>\n",
              "      <td>0.005122</td>\n",
              "      <td>3</td>\n",
              "    </tr>\n",
              "    <tr>\n",
              "      <th>25</th>\n",
              "      <td>MAC002907</td>\n",
              "      <td>0.176145</td>\n",
              "      <td>0.224058</td>\n",
              "      <td>6495.722000</td>\n",
              "      <td>0</td>\n",
              "      <td>1.794</td>\n",
              "      <td>1</td>\n",
              "      <td>0.019</td>\n",
              "      <td>0.010591</td>\n",
              "      <td>3</td>\n",
              "    </tr>\n",
              "    <tr>\n",
              "      <th>47</th>\n",
              "      <td>MAC005263</td>\n",
              "      <td>0.200997</td>\n",
              "      <td>0.386666</td>\n",
              "      <td>13910.990002</td>\n",
              "      <td>3</td>\n",
              "      <td>2.890</td>\n",
              "      <td>2</td>\n",
              "      <td>0.000</td>\n",
              "      <td>0.000000</td>\n",
              "      <td>3</td>\n",
              "    </tr>\n",
              "    <tr>\n",
              "      <th>18</th>\n",
              "      <td>MAC002340</td>\n",
              "      <td>0.081404</td>\n",
              "      <td>0.128527</td>\n",
              "      <td>4080.207001</td>\n",
              "      <td>4</td>\n",
              "      <td>2.562</td>\n",
              "      <td>2</td>\n",
              "      <td>0.033</td>\n",
              "      <td>0.012881</td>\n",
              "      <td>3</td>\n",
              "    </tr>\n",
              "    <tr>\n",
              "      <th>38</th>\n",
              "      <td>MAC004487</td>\n",
              "      <td>0.222856</td>\n",
              "      <td>0.298543</td>\n",
              "      <td>11482.945999</td>\n",
              "      <td>2</td>\n",
              "      <td>3.906</td>\n",
              "      <td>1</td>\n",
              "      <td>0.048</td>\n",
              "      <td>0.012289</td>\n",
              "      <td>3</td>\n",
              "    </tr>\n",
              "  </tbody>\n",
              "</table>\n",
              "</div>"
            ],
            "text/plain": [
              "        LCLid  (energy_median, mean)  ...  min_max_ratio  Cluster\n",
              "45  MAC004518               0.080438  ...       0.005122        3\n",
              "25  MAC002907               0.176145  ...       0.010591        3\n",
              "47  MAC005263               0.200997  ...       0.000000        3\n",
              "18  MAC002340               0.081404  ...       0.012881        3\n",
              "38  MAC004487               0.222856  ...       0.012289        3\n",
              "\n",
              "[5 rows x 10 columns]"
            ]
          },
          "metadata": {
            "tags": []
          },
          "execution_count": 9
        }
      ]
    },
    {
      "cell_type": "code",
      "metadata": {
        "colab": {
          "base_uri": "https://localhost:8080/",
          "height": 296
        },
        "id": "HbEAnj0NgNs9",
        "outputId": "b4d2dc98-19e9-4504-ba1c-18ac701af197"
      },
      "source": [
        "#clustered_data[\"day_max\"].plot.hist(figsize=(20,8))\n",
        "clustered_data.plot(kind= 'scatter', x=\"Cluster\", y= \"energy_max\", c='salmon')\n"
      ],
      "execution_count": null,
      "outputs": [
        {
          "output_type": "execute_result",
          "data": {
            "text/plain": [
              "<matplotlib.axes._subplots.AxesSubplot at 0x7f85ba570978>"
            ]
          },
          "metadata": {
            "tags": []
          },
          "execution_count": 10
        },
        {
          "output_type": "display_data",
          "data": {
            "image/png": "[encoded data removed]",
            "text/plain": [
              "<Figure size 432x288 with 1 Axes>"
            ]
          },
          "metadata": {
            "tags": [],
            "needs_background": "light"
          }
        }
      ]
    },
    {
      "cell_type": "code",
      "metadata": {
        "id": "pHPrbPC_ISMk"
      },
      "source": [
        ""
      ],
      "execution_count": null,
      "outputs": []
    },
    {
      "cell_type": "code",
      "metadata": {
        "colab": {
          "base_uri": "https://localhost:8080/"
        },
        "id": "c_nEi9t9ISPo",
        "outputId": "e667c648-3a59-4fa0-8219-2dbe16db3fc8"
      },
      "source": [
        "x = original_data.drop('day', axis =1)\n",
        "x.shape"
      ],
      "execution_count": null,
      "outputs": [
        {
          "output_type": "execute_result",
          "data": {
            "text/plain": [
              "(36168, 8)"
            ]
          },
          "metadata": {
            "tags": []
          },
          "execution_count": 14
        }
      ]
    },
    {
      "cell_type": "code",
      "metadata": {
        "colab": {
          "base_uri": "https://localhost:8080/"
        },
        "id": "zv4WHVNEISRg",
        "outputId": "c6b11d47-a392-46d3-a985-445be05d9db0"
      },
      "source": [
        "y=original_data['day']\n",
        "y.shape"
      ],
      "execution_count": null,
      "outputs": [
        {
          "output_type": "execute_result",
          "data": {
            "text/plain": [
              "(36168,)"
            ]
          },
          "metadata": {
            "tags": []
          },
          "execution_count": 15
        }
      ]
    },
    {
      "cell_type": "code",
      "metadata": {
        "colab": {
          "base_uri": "https://localhost:8080/",
          "height": 287
        },
        "id": "rRLaWKVaI3kE",
        "outputId": "42fa8644-0b43-441f-df12-5db672134b1c"
      },
      "source": [
        "original_data.plot( figsize=(20, 8))"
      ],
      "execution_count": null,
      "outputs": [
        {
          "output_type": "execute_result",
          "data": {
            "text/plain": [
              "<matplotlib.axes._subplots.AxesSubplot at 0x7f85baa2ef60>"
            ]
          },
          "metadata": {
            "tags": []
          },
          "execution_count": 11
        },
        {
          "output_type": "display_data",
          "data": {
            "image/png": "[encoded data removed]",
            "text/plain": [
              "<Figure size 1440x576 with 1 Axes>"
            ]
          },
          "metadata": {
            "tags": [],
            "needs_background": "light"
          }
        }
      ]
    }
  ]
}